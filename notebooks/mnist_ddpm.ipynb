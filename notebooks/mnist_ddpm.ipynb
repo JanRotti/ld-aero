{
 "cells": [
  {
   "cell_type": "code",
   "execution_count": null,
   "metadata": {},
   "outputs": [],
   "source": [
    "%cd /home/jrottmay/ml-dev\n",
    "\n",
    "import torch; torch.manual_seed(0)\n",
    "import torch.nn as nn\n",
    "import torch.nn.functional as F\n",
    "import torch.utils\n",
    "import torch.distributions\n",
    "import torchvision\n",
    "from torchsummary import summary\n",
    "\n",
    "import ipywidgets as widgets\n",
    "from IPython.display import display\n",
    "\n",
    "# Local code inclusion\n",
    "from modules import *"
   ]
  },
  {
   "cell_type": "code",
   "execution_count": null,
   "metadata": {},
   "outputs": [],
   "source": [
    "device = 'cuda' if torch.cuda.is_available() else 'cpu'\n",
    "\n",
    "# Additional Info when using cuda\n",
    "if device == 'cuda':\n",
    "    print(torch.cuda.get_device_name(0))\n",
    "    print('Memory Usage:')\n",
    "    print('Allocated:', round(torch.cuda.memory_allocated(0)/1024**3,1), 'GB')\n",
    "    print('Cached:   ', round(torch.cuda.memory_reserved(0)/1024**3,1), 'GB')"
   ]
  },
  {
   "cell_type": "markdown",
   "metadata": {},
   "source": [
    "# Parameters & Misc"
   ]
  },
  {
   "cell_type": "code",
   "execution_count": null,
   "metadata": {},
   "outputs": [],
   "source": [
    "flag_train = False\n",
    "train_from_scratch = False\n",
    "\n",
    "slider = widgets.ToggleButton(value=False, description='Perform Training')\n",
    "train_from_scratch_slider = widgets.ToggleButton(value=False, description='Train from Scratch')\n",
    "\n",
    "def on_slider_change(change):\n",
    "    global flag_train\n",
    "    flag_train = change['new']\n",
    "\n",
    "def on_train_from_scratch_button_click(b):\n",
    "    global train_from_scratch\n",
    "    train_from_scratch = True\n",
    "\n",
    "slider.observe(on_slider_change, names='value')\n",
    "train_from_scratch_slider.observe(on_train_from_scratch_button_click, names='value')\n",
    "\n",
    "display(widgets.HBox([slider, train_from_scratch_slider]))\n"
   ]
  },
  {
   "cell_type": "code",
   "execution_count": null,
   "metadata": {},
   "outputs": [],
   "source": [
    "# Misc\n",
    "batch_size = 128\n",
    "log_dir = \"./log\"\n",
    "img_dir = \"./img\"\n",
    "wandb_dir = \"./tmp\"\n",
    "\n",
    "# VAE PARAMETERS\n",
    "base_channels = 32\n",
    "latent_channels = 100\n",
    "channel_multipliers=(1, 2, 4)\n",
    "attention_resultions=(1)\n",
    "dropout=0.2\n",
    "norm=\"bn\"\n",
    "vae_model_checkpoint = f\"{log_dir}/MNIST_VAE-test_01-iteration-80000-model.pth\"\n",
    "vae_optim_checkpoint = f\"{log_dir}/MNIST_VAE-test_01-iteration-80000-optim.pth\"\n",
    "\n",
    "# DDPM PARAMETERS\n",
    "activation = F.relu\n",
    "use_labels = True\n",
    "schedule = \"cosine\"\n",
    "schedule_low = 1e-4\n",
    "schedule_high = 2e-2\n",
    "num_timesteps = 100\n",
    "num_res_blocks = 2\n",
    "loss_type = \"l2\"\n",
    "\n",
    "ema_decay = 0.9999\n",
    "ema_update_rate = 1\n",
    "\n",
    "learning_rate = 2e-4\n",
    "iterations = 100000\n",
    "checkpoint_rate = 10000\n",
    "log_rate = 1000\n",
    "num_samples = 10\n",
    "classes = torch.arange(10)\n",
    "project_name = \"Image Space Diffusion\"\n",
    "entity=\"jan-rottmayer\"\n",
    "run_name = \"testing_2\"\n",
    "log_to_wandb = False\n",
    "model_checkpoint = f\"{log_dir}/MNIST_DDPM-test_01-iteration-100000-model.pth\"\n",
    "optim_checkpoint = f\"{log_dir}/MNIST_DDPM-test_01-iteration-100000-optim.pth\""
   ]
  },
  {
   "cell_type": "markdown",
   "metadata": {},
   "source": [
    "# Data"
   ]
  },
  {
   "cell_type": "code",
   "execution_count": null,
   "metadata": {},
   "outputs": [],
   "source": [
    "train_data = torch.utils.data.DataLoader(\n",
    "            torchvision.datasets.MNIST('~/data', \n",
    "                transform=torchvision.transforms.ToTensor(), \n",
    "                download=True),\n",
    "            batch_size=batch_size,\n",
    "            shuffle=True)\n",
    "\n",
    "test_data = torch.utils.data.DataLoader(\n",
    "        torchvision.datasets.MNIST('~/data', \n",
    "                train=False,\n",
    "            transform=torchvision.transforms.ToTensor(), \n",
    "            download=True),\n",
    "        batch_size=batch_size,\n",
    "        shuffle=True)\n",
    "\n",
    "# VAE PARAMETERS\n",
    "kld_weight = batch_size / (len(train_data) * batch_size)  "
   ]
  },
  {
   "cell_type": "markdown",
   "metadata": {},
   "source": [
    "# Model Definition"
   ]
  },
  {
   "cell_type": "code",
   "execution_count": null,
   "metadata": {},
   "outputs": [],
   "source": [
    "if schedule == \"cosine\":\n",
    "    betas = np.linspace(schedule_low, schedule_high, num_timesteps)\n",
    "else:\n",
    "    betas = np.linspace(\n",
    "        schedule_low * 1000 / num_timesteps,\n",
    "        schedule_high * 1000 / num_timesteps,\n",
    "        num_timesteps\n",
    "    )"
   ]
  },
  {
   "cell_type": "markdown",
   "metadata": {},
   "source": [
    "# VAE"
   ]
  },
  {
   "cell_type": "code",
   "execution_count": null,
   "metadata": {},
   "outputs": [],
   "source": [
    "vae = VAE(\n",
    "    1,\n",
    "    base_channels,\n",
    "    latent_channels,\n",
    "    channel_multipliers=channel_multipliers,\n",
    "    attention_resultions=attention_resultions,\n",
    "    dropout=dropout,\n",
    "    norm=norm,\n",
    ")\n",
    "\n",
    "vae_optim = torch.optim.Adam(vae.parameters(), lr=learning_rate)"
   ]
  },
  {
   "cell_type": "code",
   "execution_count": null,
   "metadata": {},
   "outputs": [],
   "source": [
    "if flag_train:\n",
    "    train(\n",
    "        vae,\n",
    "        vae_optim,\n",
    "        train_data,\n",
    "        lambda m, x, y: m.loss(x, y),\n",
    "        test_data=test_data,\n",
    "        iterations=100000,\n",
    "        checkpoint_rate=10000,\n",
    "        log_rate=1000,\n",
    "        run_name=\"test_01\",\n",
    "        project_name=\"MNIST_VAE\",\n",
    "        chkpt_callback=visualize_mnist_sample,\n",
    "        model_checkpoint=vae_model_checkpoint if not train_from_scratch else None,\n",
    "        optim_checkpoint=vae_optim_checkpoint if not train_from_scratch else None,\n",
    "    )\n",
    "else:\n",
    "    vae.load_state_dict(torch.load(f\"{vae_model_checkpoint}\"))"
   ]
  },
  {
   "cell_type": "markdown",
   "metadata": {},
   "source": [
    "# Image Space DDPM"
   ]
  },
  {
   "cell_type": "code",
   "execution_count": null,
   "metadata": {},
   "outputs": [],
   "source": [
    "model = UNet(\n",
    "        img_channels=1,\n",
    "        base_channels=32,\n",
    "        channel_mults=(1, 2, 4),\n",
    "        time_emb_dim=128 * 2,\n",
    "        norm=\"gn\",\n",
    "        dropout=0.1,\n",
    "        activation=F.relu,\n",
    "        attention_resolutions=(1,),\n",
    "        num_classes=None if not use_labels else 10,\n",
    "        initial_pad=0,\n",
    "    )\n",
    "\n",
    "diffusion = GaussianDiffusion(\n",
    "        model, (28, 28), 1, \n",
    "        betas,\n",
    "        ema_decay=ema_decay,\n",
    "        ema_update_rate=ema_update_rate,\n",
    "        ema_start=2000,\n",
    "    )\n",
    "\n",
    "diffusion_opt = torch.optim.Adam(diffusion.parameters(), lr=learning_rate)"
   ]
  },
  {
   "cell_type": "code",
   "execution_count": null,
   "metadata": {},
   "outputs": [],
   "source": [
    "def visualize_ddpm_mnist(\n",
    "    model,\n",
    "    optimizer=None,\n",
    "    loss_function=None,\n",
    "    train_data=None,\n",
    "    test_data=None,\n",
    "    iteration=None,\n",
    "    iterations=None,\n",
    "    run_name=None,\n",
    "    log_to_wandb=None,\n",
    "    wandb_dir=None,\n",
    "    img_dir=\"./img\",\n",
    "    log_dir=\"./log\",\n",
    "    entity=None,\n",
    "    project_name=None,\n",
    "    device=None,\n",
    "    **kwargs\n",
    "):\n",
    "    n_samples = 5\n",
    "    channel = 1\n",
    "    subset = torch.utils.data.Subset(train_data.dataset,np.array(range(n_samples)))\n",
    "    vis_samples_loader = torch.utils.data.DataLoader(subset, batch_size=n_samples, shuffle=False)\n",
    "    \n",
    "    model.eval()  # Set the model to evaluation mode\n",
    "    device = next(model.parameters()).device  # Use the same device as the model parameters\n",
    "    \n",
    "    with torch.no_grad():  # No need to calculate gradients for this\n",
    "        for samples, y in vis_samples_loader:\n",
    "            # Assuming your DataLoader returns just images, adjust if it returns a tuple (images, labels) or similar\n",
    "            reconstructions = model(samples.to(device), y=y.to(device)).to('cpu')\n",
    "\n",
    "            # Concatenate original images and reconstructions\n",
    "            comparison = torch.cat([samples, reconstructions])\n",
    "            comparison = comparison[:,channel,:,:]\n",
    "\n",
    "            # Create a grid of images\n",
    "            grid = torchvision.utils.make_grid(comparison, nrow=n_samples, padding=2, normalize=True)\n",
    "\n",
    "            # Convert the tensor to a PIL image and display it\n",
    "            plt.clf()\n",
    "            plt.imshow(grid.permute(1, 2, 0).numpy())\n",
    "        \n",
    "            plt.text(0.5,0.0,f\"Project: {project_name}\\nRun: {run_name}\\nTime: {datetime.datetime.now().replace(second=0, microsecond=0)}\\nIteration: {iteration}\\n\")\n",
    "            plt.axis('off')\n",
    "            \n",
    "            plt.savefig(f\"{img_dir}/{project_name}-{run_name}-iteration-{iteration}-model.png\")\n",
    "            break\n",
    "\n",
    "    # Put model back into training mode\n",
    "    model.train()\n",
    "    \n",
    "    return None\n",
    "\n",
    "visualize_ddpm_mnist(\n",
    "    diffusion,\n",
    "    train_data=train_data,\n",
    ")"
   ]
  },
  {
   "cell_type": "code",
   "execution_count": null,
   "metadata": {},
   "outputs": [],
   "source": [
    "def loss_function(model, x, y=None):\n",
    "        z = x\n",
    "        return {'loss': model(z, y=y)} \n",
    "\n",
    "if flag_train:\n",
    "    train(\n",
    "        diffusion,\n",
    "        diffusion_opt,\n",
    "        train_data,\n",
    "        loss_function,\n",
    "        test_data=test_data,\n",
    "        iterations=100000,\n",
    "        checkpoint_rate=10000,\n",
    "        log_rate=1000,\n",
    "        run_name=\"test_01\",\n",
    "        project_name=\"MNIST_DDPM\",\n",
    "        chkpt_callback=visualize_ddpm_mnist_sample,\n",
    "        model_checkpoint=model_checkpoint if not train_from_scratch else None,\n",
    "        optim_checkpoint=optim_checkpoint if not train_from_scratch else None,\n",
    "    )\n",
    "else:\n",
    "    diffusion.load_state_dict(torch.load(f\"{model_checkpoint}\"))"
   ]
  },
  {
   "cell_type": "markdown",
   "metadata": {},
   "source": [
    "# Latent Diffusion - based on VAE"
   ]
  },
  {
   "cell_type": "code",
   "execution_count": null,
   "metadata": {},
   "outputs": [],
   "source": []
  }
 ],
 "metadata": {
  "kernelspec": {
   "display_name": "SU",
   "language": "python",
   "name": "su"
  },
  "language_info": {
   "codemirror_mode": {
    "name": "ipython",
    "version": 3
   },
   "file_extension": ".py",
   "mimetype": "text/x-python",
   "name": "python",
   "nbconvert_exporter": "python",
   "pygments_lexer": "ipython3",
   "version": "3.10.9"
  }
 },
 "nbformat": 4,
 "nbformat_minor": 2
}
