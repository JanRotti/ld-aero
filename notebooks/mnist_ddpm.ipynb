{
 "cells": [
  {
   "cell_type": "code",
   "execution_count": 2,
   "metadata": {},
   "outputs": [
    {
     "name": "stdout",
     "output_type": "stream",
     "text": [
      "/home/jrottmay/ml-dev\n"
     ]
    }
   ],
   "source": [
    "%cd /home/jrottmay/ml-dev\n",
    "import torch; torch.manual_seed(0)\n",
    "import torch.nn as nn\n",
    "import torch.nn.functional as F\n",
    "import torch.utils\n",
    "import torch.distributions\n",
    "import torchvision"
   ]
  },
  {
   "cell_type": "code",
   "execution_count": 3,
   "metadata": {},
   "outputs": [],
   "source": [
    "from modules import *"
   ]
  },
  {
   "cell_type": "code",
   "execution_count": 4,
   "metadata": {},
   "outputs": [
    {
     "name": "stdout",
     "output_type": "stream",
     "text": [
      "Tesla V100-SXM2-16GB\n",
      "Memory Usage:\n",
      "Allocated: 0.0 GB\n",
      "Cached:    0.0 GB\n"
     ]
    }
   ],
   "source": [
    "device = 'cuda' if torch.cuda.is_available() else 'cpu'\n",
    "\n",
    "# Additional Info when using cuda\n",
    "if device == 'cuda':\n",
    "    print(torch.cuda.get_device_name(0))\n",
    "    print('Memory Usage:')\n",
    "    print('Allocated:', round(torch.cuda.memory_allocated(0)/1024**3,1), 'GB')\n",
    "    print('Cached:   ', round(torch.cuda.memory_reserved(0)/1024**3,1), 'GB')"
   ]
  },
  {
   "cell_type": "markdown",
   "metadata": {},
   "source": [
    "# Data"
   ]
  },
  {
   "cell_type": "code",
   "execution_count": 6,
   "metadata": {},
   "outputs": [],
   "source": [
    "# parameters\n",
    "batch_size = 128"
   ]
  },
  {
   "cell_type": "code",
   "execution_count": 7,
   "metadata": {},
   "outputs": [],
   "source": [
    "train_data = torch.utils.data.DataLoader(\n",
    "            torchvision.datasets.MNIST('~/data', \n",
    "                transform=torchvision.transforms.ToTensor(), \n",
    "                download=True),\n",
    "            batch_size=batch_size,\n",
    "            shuffle=True)\n",
    "\n",
    "test_data = torch.utils.data.DataLoader(\n",
    "        torchvision.datasets.MNIST('~/data', \n",
    "                train=False,\n",
    "            transform=torchvision.transforms.ToTensor(), \n",
    "            download=True),\n",
    "        batch_size=batch_size,\n",
    "        shuffle=True)"
   ]
  },
  {
   "cell_type": "markdown",
   "metadata": {},
   "source": [
    "# Model Definition"
   ]
  },
  {
   "cell_type": "code",
   "execution_count": 15,
   "metadata": {},
   "outputs": [],
   "source": [
    "# VAE PARAMETERS\n",
    "kld_weight = batch_size / (len(train_data) * batch_size)\n",
    "\n",
    "# DDPM PARAMETERS\n",
    "activation = F.relu\n",
    "use_labels = True\n",
    "schedule = \"cosine\"\n",
    "schedule_low = 1e-4\n",
    "schedule_high = 2e-2\n",
    "num_timesteps = 100\n",
    "num_res_blocks = 2\n",
    "loss_type = \"l2\"\n",
    "\n",
    "ema_decay = 0.9999\n",
    "ema_update_rate = 1\n",
    "\n",
    "learning_rate = 2e-4\n",
    "iterations = 100000\n",
    "checkpoint_rate = 10000\n",
    "log_rate = 1000\n",
    "num_samples = 10\n",
    "classes = torch.arange(10)\n",
    "project_name = \"Image Space Diffusion\"\n",
    "log_dir = \"./logs\"\n",
    "img_dir = \"./img\"\n",
    "wandb_dir = \"./tmp\"\n",
    "entity=\"jan-rottmayer\"\n",
    "run_name = \"testing_2\"\n",
    "log_to_wandb = False\n",
    "model_checkpoint = None #f\"{log_dir}/Image Space Diffusion-testing-iteration-100000-model.pth\"\n",
    "optim_checkpoint = None #f\"{log_dir}/Image Space Diffusion-testing-iteration-100000-optim.pth\""
   ]
  },
  {
   "cell_type": "code",
   "execution_count": 9,
   "metadata": {},
   "outputs": [],
   "source": [
    "if schedule == \"cosine\":\n",
    "    betas = np.linspace(schedule_low, schedule_high, num_timesteps)\n",
    "else:\n",
    "    betas = np.linspace(\n",
    "        schedule_low * 1000 / num_timesteps,\n",
    "        schedule_high * 1000 / num_timesteps,\n",
    "        num_timesteps\n",
    "    )"
   ]
  },
  {
   "cell_type": "markdown",
   "metadata": {},
   "source": [
    "# VAE"
   ]
  },
  {
   "cell_type": "code",
   "execution_count": 17,
   "metadata": {},
   "outputs": [],
   "source": [
    "vae = VAE(\n",
    "    1,\n",
    "    16,\n",
    "    100,\n",
    "    channel_multipliers=(1, 2, 4),\n",
    "    attention_resultions=(1),\n",
    "    dropout=0.2,\n",
    "    norm=\"bn\",\n",
    ")\n",
    "vae_optim = torch.optim.Adam(vae.parameters(), lr=learning_rate)"
   ]
  },
  {
   "cell_type": "code",
   "execution_count": 36,
   "metadata": {},
   "outputs": [
    {
     "name": "stderr",
     "output_type": "stream",
     "text": [
      "  7%|▋         | 7332/100000 [03:14<39:09, 39.44it/s, Train Loss=0.0122, Test Loss=nan]"
     ]
    }
   ],
   "source": [
    "train(\n",
    "    vae,\n",
    "    vae_optim,\n",
    "    train_data,\n",
    "    lambda m, x, y: m.loss(x, y),\n",
    "    iterations=100000,\n",
    "    checkpoint_rate=10000,\n",
    "    log_rate=1000,\n",
    "    run_name=\"test_01\",\n",
    "    project_name=\"MNIST_VAE\",\n",
    "    chkpt_callback=visualize_mnist_sample,\n",
    ")"
   ]
  },
  {
   "cell_type": "markdown",
   "metadata": {},
   "source": [
    "# DDPM"
   ]
  },
  {
   "cell_type": "code",
   "execution_count": 14,
   "metadata": {},
   "outputs": [],
   "source": [
    "model = UNet(\n",
    "        img_channels=1,\n",
    "        base_channels=32,\n",
    "        channel_mults=(1, 2, 4),\n",
    "        time_emb_dim=128 * 2,\n",
    "        norm=\"gn\",\n",
    "        dropout=0.1,\n",
    "        activation=F.relu,\n",
    "        attention_resolutions=(1,),\n",
    "        num_classes=None if not use_labels else 10,\n",
    "        initial_pad=0,\n",
    "    )\n",
    "\n",
    "diffusion = GaussianDiffusion(\n",
    "        model, (28, 28), 1, \n",
    "        betas,\n",
    "        ema_decay=ema_decay,\n",
    "        ema_update_rate=ema_update_rate,\n",
    "        ema_start=2000,\n",
    "    )"
   ]
  }
 ],
 "metadata": {
  "kernelspec": {
   "display_name": "SU",
   "language": "python",
   "name": "su"
  },
  "language_info": {
   "codemirror_mode": {
    "name": "ipython",
    "version": 3
   },
   "file_extension": ".py",
   "mimetype": "text/x-python",
   "name": "python",
   "nbconvert_exporter": "python",
   "pygments_lexer": "ipython3",
   "version": "3.10.9"
  }
 },
 "nbformat": 4,
 "nbformat_minor": 2
}
